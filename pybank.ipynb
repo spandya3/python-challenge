{
 "cells": [
  {
   "cell_type": "code",
   "execution_count": 155,
   "id": "b1c97481-1999-4c42-9fb5-ba96fdf3e073",
   "metadata": {},
   "outputs": [
    {
     "name": "stdout",
     "output_type": "stream",
     "text": [
      "Financial Analysis\n",
      "---------------------\n",
      "Total Months: 86\n",
      "Total Net: $22564198\n",
      "Average Monthly Change: $-8311.11\n",
      "Greatest Increase: $1862002\n",
      "Greatest Decrease: $-1825558\n"
     ]
    }
   ],
   "source": [
    "import csv\n",
    "import os\n",
    "\n",
    "\n",
    "file_load = os.path.join(\".\", \"Resources\", \"PyBank\", \"Resources\", \"budget_data.csv\")\n",
    "file_output = os.path.join(\".\",\"budget_analysis.txt\")\n",
    "\n",
    "total_months = 1\n",
    "total_net = 0\n",
    "net_change_list = []\n",
    "month_change = []\n",
    "great_change = []\n",
    "least_change = []\n",
    "\n",
    "with open(file_load) as finance_data:\n",
    "    reader = csv.reader(finance_data)\n",
    "\n",
    "    header = next(reader)\n",
    "\n",
    "    first_row = next(reader)\n",
    "\n",
    "    total_net =+ int(first_row[1])\n",
    "    previous_net = int(first_row[1])\n",
    "\n",
    "    for row in reader:\n",
    "        #Counting total months\n",
    "        total_months = total_months + 1\n",
    "        #Total Money Cumulative\n",
    "        total_net = total_net + int(row[1])\n",
    "        #Track Change between months\n",
    "        net_change = int(row[1]) - previous_net\n",
    "        net_change_list.append(net_change)\n",
    "        #reset previous net value\n",
    "        previous_net = int(row[1])\n",
    "        #Month average\n",
    "        net_month_average = sum(net_change_list)/len(net_change_list)\n",
    "       \n",
    "        \n",
    "        #Calculate largest gains\n",
    "        if net_change > 0:\n",
    "            great_change.append(net_change)\n",
    "            largest_gain = max(great_change)\n",
    "        \n",
    "        #Calculate largest loses\n",
    "        if net_change < 0:\n",
    "            least_change.append(net_change)\n",
    "            largest_loss = min(least_change)\n",
    "        #Set variables for max and min\n",
    "            \n",
    "\n",
    "output = (\n",
    "    f\"Financial Analysis\\n\"\n",
    "    f\"---------------------\\n\"\n",
    "    f\"Total Months: {total_months}\\n\"\n",
    "    f\"Total Net: ${total_net}\\n\"\n",
    "    f\"Average Monthly Change: ${round(net_month_average ,2)}\\n\"\n",
    "    f\"Greatest Increase: ${largest_gain}\\n\"\n",
    "    f\"Greatest Decrease: ${largest_loss}\"\n",
    "\n",
    ")\n",
    "\n",
    "print(output)\n",
    "\n",
    "with open(file_output, \"w\") as txt_file:\n",
    "    txt_file.write(output)\n",
    "\n"
   ]
  },
  {
   "cell_type": "code",
   "execution_count": null,
   "id": "b23c673a-508f-42c5-95d4-61ad75fa70f6",
   "metadata": {},
   "outputs": [],
   "source": []
  },
  {
   "cell_type": "code",
   "execution_count": null,
   "id": "e92b92d9-4723-4b5c-8513-8f340816dbbf",
   "metadata": {},
   "outputs": [],
   "source": []
  }
 ],
 "metadata": {
  "kernelspec": {
   "display_name": "Python 3 (ipykernel)",
   "language": "python",
   "name": "python3"
  },
  "language_info": {
   "codemirror_mode": {
    "name": "ipython",
    "version": 3
   },
   "file_extension": ".py",
   "mimetype": "text/x-python",
   "name": "python",
   "nbconvert_exporter": "python",
   "pygments_lexer": "ipython3",
   "version": "3.11.7"
  }
 },
 "nbformat": 4,
 "nbformat_minor": 5
}
