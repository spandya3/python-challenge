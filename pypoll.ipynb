{
 "cells": [
  {
   "cell_type": "code",
   "execution_count": 71,
   "id": "2cc1ec02-8e52-4307-be77-d90e57dd280a",
   "metadata": {},
   "outputs": [
    {
     "name": "stdout",
     "output_type": "stream",
     "text": [
      "Election Results\n",
      "-----------------------\n",
      "Total Votes: 369711\n",
      "-----------------------\n",
      "\n",
      "Charles Casper Stockham: 23.049% (85213)\n",
      "Diana DeGette: 73.812% (272892)\n",
      "Raymon Anthony Doane: 3.139% (11606)\n",
      "-------------------------\n",
      "Winner: Diana DeGette\n",
      "-------------------------\n",
      "\n"
     ]
    }
   ],
   "source": [
    "import csv\n",
    "import os\n",
    "\n",
    "\n",
    "file_upload = os.path.join(\".\", \"Resources\", \"PyPoll\", \"Resources\", \"election_data.csv\")\n",
    "file_output = os.path.join(\".\", \"election_data_text.txt\")\n",
    "\n",
    "total_votes = 0\n",
    "row_count = 0\n",
    "\n",
    "candidate_options = []\n",
    "candidate_votes = {}\n",
    "candidate_name = []\n",
    "\n",
    "with open(file_upload) as election_data:\n",
    "    reader = csv.reader(election_data)\n",
    "\n",
    "    header = next(reader)\n",
    "\n",
    "    for row in reader:\n",
    "        #Row count\n",
    "        row_count = row_count + 1\n",
    "        #total_votes\n",
    "        total_votes = total_votes + 1\n",
    "        #Candidates\n",
    "        candidate_name = row[2]\n",
    "        #County\n",
    "        candidate_county = row[1]\n",
    "\n",
    "        if candidate_name not in candidate_options:\n",
    "            candidate_options.append(candidate_name)\n",
    "\n",
    "            candidate_votes[candidate_name] = 0\n",
    "\n",
    "        candidate_votes[candidate_name] += 1\n",
    "            \n",
    "election_votes = (\n",
    "    f\"Election Results\\n\"\n",
    "    f\"-----------------------\\n\"\n",
    "    f\"Total Votes: {total_votes}\\n\"\n",
    "    f\"-----------------------\\n\"\n",
    "    )\n",
    "print(election_votes)\n",
    "\n",
    "winning_candidate = \"\"\n",
    "winning_count = 0\n",
    "\n",
    "for candidate_name in candidate_votes:\n",
    "    votes = candidate_votes[candidate_name]\n",
    "    vote_percentage = (float(votes) / float(total_votes)) * 100\n",
    "\n",
    "    if votes > winning_count:\n",
    "        winning_count = votes\n",
    "        winning_candidate = candidate_name\n",
    "\n",
    "    voter_output = f\"{candidate_name}: {vote_percentage:.3f}% ({votes})\\n\"\n",
    "\n",
    "    print(voter_output, end=\"\")\n",
    "\n",
    "overall_winner = (\n",
    "f\"-------------------------\\n\"\n",
    "f\"Winner: {winning_candidate}\\n\"\n",
    "f\"-------------------------\\n\"\n",
    ")\n",
    "\n",
    "print(overall_winner)\n",
    "\n",
    "with open (file_output, \"w\") as txtfile:\n",
    "    txtfile.write(election_votes + voter_output + overall_winner)"
   ]
  },
  {
   "cell_type": "code",
   "execution_count": null,
   "id": "3e3d6592-5af4-409d-84ae-e312511ac6c6",
   "metadata": {},
   "outputs": [],
   "source": []
  },
  {
   "cell_type": "code",
   "execution_count": null,
   "id": "150b75d4-7857-4787-8a0b-fa36bb6bf35b",
   "metadata": {},
   "outputs": [],
   "source": []
  }
 ],
 "metadata": {
  "kernelspec": {
   "display_name": "Python 3 (ipykernel)",
   "language": "python",
   "name": "python3"
  },
  "language_info": {
   "codemirror_mode": {
    "name": "ipython",
    "version": 3
   },
   "file_extension": ".py",
   "mimetype": "text/x-python",
   "name": "python",
   "nbconvert_exporter": "python",
   "pygments_lexer": "ipython3",
   "version": "3.11.7"
  }
 },
 "nbformat": 4,
 "nbformat_minor": 5
}
